{
 "cells": [
  {
   "cell_type": "code",
   "execution_count": 2,
   "metadata": {},
   "outputs": [
    {
     "name": "stdout",
     "output_type": "stream",
     "text": [
      "Better speed can be achieved with apex installed from https://www.github.com/nvidia/apex.\n"
     ]
    }
   ],
   "source": [
    "from lib import *\n",
    "from gensim.corpora import Dictionary\n",
    "from gensim.utils import tokenize\n",
    "from imblearn.over_sampling import RandomOverSampler"
   ]
  },
  {
   "cell_type": "code",
   "execution_count": 3,
   "metadata": {},
   "outputs": [],
   "source": [
    "embed_dim = 300\n",
    "dictionary_fpath = 'data/dictionary'\n",
    "word2id_fpath = 'data/word2id'\n",
    "embed_layer_fpath = 'data/embed'\n",
    "batch_size = 1024\n",
    "sentence_length = 32\n",
    "out_channels = 64\n",
    "kernel_weights = [2,3,4]"
   ]
  },
  {
   "cell_type": "code",
   "execution_count": 4,
   "metadata": {},
   "outputs": [
    {
     "data": {
      "text/plain": [
       "'\\ndictionary = Dictionary().load(dictionary_fpath)\\nlen(dictionary)\\n'"
      ]
     },
     "execution_count": 4,
     "metadata": {},
     "output_type": "execute_result"
    }
   ],
   "source": [
    "\n",
    "df = pd.read_csv('data/train.csv')\n",
    "sentences = df['question_text'].values\n",
    "\n",
    "documents = [list(tokenize(sentence)) for sentence in sentences]\n",
    "dictionary = Dictionary(documents=documents)\n",
    "\n",
    "dictionary.filter_extremes(no_below=2)\n",
    "len(dictionary.token2id)\n",
    "dictionary.save(dictionary_fpath)\n",
    "'''\n",
    "dictionary = Dictionary().load(dictionary_fpath)\n",
    "len(dictionary)\n",
    "'''"
   ]
  },
  {
   "cell_type": "code",
   "execution_count": 5,
   "metadata": {},
   "outputs": [
    {
     "name": "stdout",
     "output_type": "stream",
     "text": [
      "100000 (100000, 300)\n"
     ]
    },
    {
     "data": {
      "text/plain": [
       "'\\nwith open(word2id_fpath) as f:\\n    dictionary = json.load(f)\\n\\nembed_layer = torch.load(embed_layer_fpath)\\nembed_layer, len(dictionary)\\n'"
      ]
     },
     "execution_count": 5,
     "metadata": {},
     "output_type": "execute_result"
    }
   ],
   "source": [
    "from collections import deque\n",
    "\n",
    "def build_glove_embed():\n",
    "    glove = pd.read_csv('data/glove.840B.300d/glove.840B.300d.txt', sep=' ')\n",
    "    glove_word2id = dict([(word, id) for id,word in enumerate(glove.iloc[:, 0])])\n",
    "    glove_embeddings = glove.iloc[:, 1:].values\n",
    "    \n",
    "    word2id = {}\n",
    "    absent_words = []\n",
    "    embeddings = deque()\n",
    "    for word in dictionary.token2id:\n",
    "        if word in glove_word2id:\n",
    "            word2id[word] = len(word2id)\n",
    "            embeddings.append(glove_embeddings[glove_word2id[word]])\n",
    "            \n",
    "        else:\n",
    "            absent_words.append(word)\n",
    "            \n",
    "    embeddings = list(embeddings)\n",
    "    \n",
    "    for word in absent_words:\n",
    "        word2id[word] = len(word2id)\n",
    "\n",
    "    #set_trace()\n",
    "    mean, std = np.mean(embeddings, axis=0), np.std(embeddings, axis=0)\n",
    "    absent_words_embeddings = np.random.normal(loc=mean, scale=std, size=(len(absent_words), embed_dim))\n",
    "    embeddings = np.concatenate([embeddings,absent_words_embeddings], axis=0)\n",
    "    print(len(word2id), embeddings.shape)\n",
    "    return word2id, embeddings\n",
    "\n",
    "\n",
    "dictionary, embeddings = build_glove_embed()\n",
    "embed_layer = torch.nn.Embedding.from_pretrained(torch.FloatTensor(embeddings))\n",
    "\n",
    "with open(word2id_fpath, 'w') as f:\n",
    "    json.dump(dictionary, f)\n",
    "'''\n",
    "with open(word2id_fpath) as f:\n",
    "    dictionary = json.load(f)\n",
    "\n",
    "embed_layer = torch.load(embed_layer_fpath)\n",
    "embed_layer, len(dictionary)\n",
    "'''"
   ]
  },
  {
   "cell_type": "code",
   "execution_count": 6,
   "metadata": {},
   "outputs": [],
   "source": [
    "class FixSentencesLength(object):\n",
    "    def __init__(self, sentence_length=128, padding=0):\n",
    "        self.sentence_length = sentence_length\n",
    "        self.padding = padding\n",
    "        \n",
    "    def fix_length(self, sentence_ids):\n",
    "        if len(sentence_ids) >= self.sentence_length:\n",
    "            return sentence_ids[:self.sentence_length]\n",
    "        else:\n",
    "            return sentence_ids + [self.padding]*(self.sentence_length - len(sentence_ids))\n",
    "         \n",
    "    def __call__(self, item):\n",
    "        item[0] = self.fix_length(item[0])\n",
    "        return item"
   ]
  },
  {
   "cell_type": "code",
   "execution_count": 7,
   "metadata": {
    "scrolled": true
   },
   "outputs": [],
   "source": [
    "# embed from glove\n",
    "class TokToID(object):\n",
    "    def __init__(self, dictionary=dictionary):\n",
    "        self.dictionary = dictionary\n",
    "\n",
    "    def toID(self, sentence):\n",
    "        try:\n",
    "            #set_trace()\n",
    "            ids = [self.dictionary.get(tok, -1) for tok in tokenize(sentence)]\n",
    "            ids = [id for id in ids if id >= 0]\n",
    "            return ids\n",
    "        except:\n",
    "            set_trace()\n",
    "\n",
    "    def __call__(self, item):\n",
    "        item[0] = self.toID(item[0])\n",
    "        return item"
   ]
  },
  {
   "cell_type": "code",
   "execution_count": 8,
   "metadata": {},
   "outputs": [],
   "source": [
    "class QuoraInsinereQustion(Dataset):\n",
    "    def __init__(self, fpath, over_sample=False):\n",
    "        df = pd.read_csv(fpath)\n",
    "        if over_sample:\n",
    "            ros = RandomOverSampler()\n",
    "            X, _ = ros.fit_resample(df, df['target'])\n",
    "            self.df = pd.DataFrame(X, columns=df.columns)\n",
    "        else:\n",
    "            self.df = df\n",
    "        \n",
    "        self.transform = transforms.Compose([\n",
    "            TokToID(dictionary),\n",
    "            FixSentencesLength(),\n",
    "            ToTensor()\n",
    "        ])\n",
    "\n",
    "    def __len__(self):\n",
    "        return self.df.shape[0]\n",
    "\n",
    "    def __getitem__(self, index):\n",
    "        item = self.df.iloc[index]\n",
    "        sample = [item['question_text'], item['target']]\n",
    "        if self.transform:\n",
    "            try:\n",
    "                sample = self.transform(sample)\n",
    "            except:\n",
    "                print(sample)\n",
    "                raise\n",
    "        return sample\n",
    "\n",
    "def build_dl(fpath, frac=0.00001, over_sample=False):\n",
    "    dataset = QuoraInsinereQustion(fpath, over_sample)\n",
    "    dataset.df = dataset.df.sample(frac=frac)\n",
    "    dl = DataLoader(\n",
    "        dataset=dataset,\n",
    "        batch_size=batch_size,\n",
    "        shuffle=shuffle,\n",
    "        num_workers=num_workers\n",
    "    )\n",
    "    return dl"
   ]
  },
  {
   "cell_type": "code",
   "execution_count": 9,
   "metadata": {},
   "outputs": [],
   "source": [
    "class CNN(torch.nn.Module):\n",
    "    def __init__(self, embed_layer=None):\n",
    "        super().__init__()\n",
    "\n",
    "        self.embed_layer = embed_layer\n",
    "        if embed_layer is None:\n",
    "            print('initilize embed randomly')\n",
    "            self.embed_layer = Embedding(num_embeddings=len(dictionary),\n",
    "                                         embedding_dim=embed_dim,\n",
    "                                         padding_idx=0)\n",
    "        \n",
    "        for p in self.embed_layer.parameters():\n",
    "            p.require_grad = False\n",
    "        \n",
    "        self.convs = []\n",
    "        for kernel_weight in kernel_weights:\n",
    "            conv = torch.nn.Conv2d(\n",
    "                in_channels=1,\n",
    "                out_channels=out_channels,\n",
    "                kernel_size=(kernel_weight, embed_dim)\n",
    "            )\n",
    "            self.convs.append(conv)\n",
    "            setattr(self, 'conv-%d'%(kernel_weight), conv)\n",
    "\n",
    "        self.dropout = torch.nn.Dropout(p=0.5)\n",
    "        self.batch_norm = torch.nn.BatchNorm1d(num_features=out_channels*len(kernel_weights))\n",
    "\n",
    "        self.fc1 = torch.nn.Linear(\n",
    "            in_features=len(kernel_weights)*out_channels,\n",
    "            out_features=len(kernel_weights)*out_channels\n",
    "        )\n",
    "        \n",
    "        self.fc2 = torch.nn.Linear(\n",
    "            in_features=len(kernel_weights)*out_channels,\n",
    "            out_features=int(len(kernel_weights)*out_channels/2)\n",
    "        )\n",
    "\n",
    "        self.fc3 = torch.nn.Linear(\n",
    "            in_features=int(len(kernel_weights)*out_channels/2),\n",
    "            out_features=2\n",
    "        )\n",
    "\n",
    "        self.relu = torch.nn.Tanh()\n",
    "\n",
    "    def forward(self, X):\n",
    "        #set_trace()\n",
    "\n",
    "        embed = self.embed_layer(X)\n",
    "        embed = self.dropout(embed)\n",
    "        embed = torch.unsqueeze(embed, dim=1)\n",
    "        \n",
    "        conv_outs = []\n",
    "        for conv in self.convs:\n",
    "            # batch_size, out_channels, sentence_length-kernel_weight+1, 1\n",
    "            conv_out = conv(embed)\n",
    "            # batch_size, out_channels, 1\n",
    "            # dim=2 is maxed out\n",
    "            conv_out, _ = torch.max(conv_out, dim=2)\n",
    "            conv_outs.append(conv_out)\n",
    "        # batch_size, out_channels*len(kernel_weights), 1\n",
    "        conv_out = torch.cat(conv_outs, dim=1)\n",
    "        # batch_size, out_channels*len(kernel_weights)\n",
    "        #conv_out = self.batch_norm(conv_out)\n",
    "        conv_out = self.dropout(conv_out)\n",
    "        conv_out = conv_out.view(X.shape[0], -1)\n",
    "        \n",
    "        fc_out = self.fc1(conv_out)\n",
    "        fc_out = self.relu(fc_out)\n",
    "        \n",
    "        fc_out = self.fc2(fc_out)\n",
    "        fc_out = self.relu(fc_out)\n",
    "        \n",
    "        fc_out = self.fc3(fc_out)\n",
    "        logits = fc_out\n",
    "        \n",
    "        return logits\n"
   ]
  },
  {
   "cell_type": "code",
   "execution_count": 9,
   "metadata": {},
   "outputs": [],
   "source": [
    "class CNN(torch.nn.Module):\n",
    "    def __init__(self, embed_layer=None):\n",
    "        super().__init__()\n",
    "\n",
    "        self.embed_layer = embed_layer\n",
    "        if embed_layer is None:\n",
    "            print('initilize embed randomly')\n",
    "            self.embed_layer = Embedding(num_embeddings=len(dictionary),\n",
    "                                         embedding_dim=embed_dim,\n",
    "                                         padding_idx=0)\n",
    "        \n",
    "        for p in self.embed_layer.parameters():\n",
    "            p.require_grad = False\n",
    "        \n",
    "        self.convs = []\n",
    "        conv = torch.nn.Conv2d(\n",
    "                in_channels=1,\n",
    "                out_channels=out_channels,\n",
    "                kernel_size=(2, embed_dim)\n",
    "        )\n",
    "        setattr(self, 'conv-0th', conv)\n",
    "        self.convs.append(conv)\n",
    "            \n",
    "        for conv_layer in range(1, 6):\n",
    "            conv = torch.nn.Conv2d(\n",
    "                in_channels=1,\n",
    "                out_channels=out_channels,\n",
    "                kernel_size=(2, out_channels)\n",
    "            )\n",
    "            self.convs.append(conv)\n",
    "            setattr(self, 'conv-%dth'%(conv_layer), conv)\n",
    "\n",
    "        self.dropout = torch.nn.Dropout(p=0.5)\n",
    "        self.batch_norm = torch.nn.BatchNorm2d(num_features=out_channels)\n",
    "\n",
    "        self.fc1 = torch.nn.Linear(\n",
    "            in_features=out_channels*len(self.convs),\n",
    "            out_features=out_channels*len(self.convs)\n",
    "        )\n",
    "        \n",
    "        self.fc2 = torch.nn.Linear(\n",
    "            in_features=out_channels*len(self.convs),\n",
    "            out_features=int(out_channels*len(self.convs)/2)\n",
    "        )\n",
    "\n",
    "        self.fc3 = torch.nn.Linear(\n",
    "            in_features=int(out_channels*len(self.convs)/2),\n",
    "            out_features=2\n",
    "        )\n",
    "\n",
    "        self.tanh = torch.nn.Tanh()\n",
    "        self.relu = torch.nn.ReLU()\n",
    "        self.softmax = torch.nn.Softmax(dim=1)\n",
    "\n",
    "    def forward(self, X):\n",
    "        embed = self.embed_layer(X)\n",
    "        embed = self.dropout(embed)\n",
    "        embed = torch.unsqueeze(embed, dim=1)\n",
    "        \n",
    "        hiddens = []\n",
    "        conv_out = embed\n",
    "        for conv in self.convs:\n",
    "            conv_out = conv(conv_out)\n",
    "            #conv_out = self.batch_norm(conv_out)\n",
    "            conv_out = self.tanh(conv_out)\n",
    "            # batch_size, 1, new_sentence_length, out_channels\n",
    "            conv_out = conv_out.permute(0, 3, 2, 1)\n",
    "            \n",
    "            hidden, _ = torch.max(conv_out, dim=2)\n",
    "            hiddens.append(hidden)\n",
    "        \n",
    "        #set_trace()\n",
    "        #conv_out, _ = torch.max(conv_out, dim=2)\n",
    "        conv_out = torch.cat(hiddens, dim=2)\n",
    "        # batch_size, out_channels*len(kernel_weights)\n",
    "        #conv_out = self.batch_norm(conv_out)\n",
    "        conv_out = self.dropout(conv_out)\n",
    "        conv_out = conv_out.view(X.shape[0], -1)\n",
    "        \n",
    "        fc_out = self.fc1(conv_out)\n",
    "        fc_out = self.relu(fc_out)\n",
    "        \n",
    "        fc_out = self.fc2(fc_out)\n",
    "        fc_out = self.relu(fc_out)\n",
    "        \n",
    "        fc_out = self.fc3(fc_out)\n",
    "        logits = self.softmax(fc_out)\n",
    "\n",
    "        return logits"
   ]
  },
  {
   "cell_type": "code",
   "execution_count": null,
   "metadata": {},
   "outputs": [],
   "source": [
    "train_dl = build_dl('data/train.csv', frac=0.01, over_sample=True)\n",
    "val_dl = build_dl('data/val', frac=0.1)"
   ]
  },
  {
   "cell_type": "code",
   "execution_count": null,
   "metadata": {
    "scrolled": true
   },
   "outputs": [
    {
     "name": "stdout",
     "output_type": "stream",
     "text": [
      "epoch 40 {'Loss': 0.020235784045496814, 'Accuracy': 0.9949467881479213, 'Precision': 0.9863760471343994, 'Recall': 0.928205132484436, 'F1': 0.9564068834021796} 7\n"
     ]
    },
    {
     "data": {
      "image/png": "[encoded data removed]",
      "text/plain": [
       "<Figure size 432x288 with 1 Axes>"
      ]
     },
     "metadata": {},
     "output_type": "display_data"
    }
   ],
   "source": [
    "torch.set_num_threads(8)\n",
    "device = torch.device('cuda:0') if torch.cuda.device_count() > 0 else torch.device('cpu')\n",
    "\n",
    "from torch.nn import CrossEntropyLoss\n",
    "from torch.optim import Adam, SGD\n",
    "\n",
    "#model = CNN()\n",
    "model = CNN(embed_layer)\n",
    "\n",
    "loss = CrossEntropyLoss()\n",
    "#loss_class_weight = torch.Tensor([1, 16]).cuda()\n",
    "#loss = CrossEntropyLoss(weight=loss_class_weight)\n",
    "\n",
    "trainable_tensors = [p[1] for p in model.named_parameters() if p[0].startswith('conv') or p[0].startswith('fc')]\n",
    "optimizer = Adam(params=trainable_tensors, lr=learning_rate)\n",
    "\n",
    "from ignite.engine import create_supervised_trainer, Events, create_supervised_evaluator\n",
    "from ignite.metrics import Loss, Accuracy, Precision, Recall\n",
    "\n",
    "#from torch.optim.lr_scheduler import StepLR\n",
    "#scheduler = StepLR(optimizer=optimizer, step_size=20, gamma=1.1)\n",
    "\n",
    "trainer = create_supervised_trainer(model=model, optimizer=optimizer, loss_fn=loss, device=device)\n",
    "evaluator = create_supervised_evaluator(model=model, metrics={'Loss': Loss(loss), 'Accuracy': Accuracy(), 'Precision': Precision(), 'Recall': Recall()}, device=device)\n",
    "metrics = Metrics()\n",
    "\n",
    "epoch_st = time()\n",
    "@trainer.on(Events.EPOCH_COMPLETED)\n",
    "def log_training_loss(trainer):\n",
    "    evaluator.run(train_dl)\n",
    "    metrics.add_train(evaluator.state.metrics)\n",
    "    #scheduler.step()\n",
    "\n",
    "    global epoch_st\n",
    "    elasped_time = int(time()-epoch_st)\n",
    "    epoch_st = time()\n",
    "\n",
    "    print(f\"epoch {trainer.state.epoch} {evaluator.state.metrics} {elasped_time}\")\n",
    "    evaluator.run(val_dl)\n",
    "    metrics.add_val(evaluator.state.metrics)\n",
    "\n",
    "    if int(trainer.state.epoch) % 5 == 0:\n",
    "        torch.save(model, 'model/%d'%(trainer.state.epoch))\n",
    "        \n",
    "    plot_metrics(metrics)\n",
    "\n",
    "trainer.run(train_dl, max_epochs=200)"
   ]
  },
  {
   "cell_type": "code",
   "execution_count": 12,
   "metadata": {},
   "outputs": [
    {
     "data": {
      "text/plain": [
       "{'Loss': 0.171541427444028,\n",
       " 'Accuracy': 0.9368731337569864,\n",
       " 'Precision': tensor([0.9766, 0.4834], device='cuda:0'),\n",
       " 'Recall': tensor([0.9557, 0.6441], device='cuda:0')}"
      ]
     },
     "execution_count": 12,
     "metadata": {},
     "output_type": "execute_result"
    }
   ],
   "source": [
    "evaluator.run(val_dl)\n",
    "evaluator.state.metrics"
   ]
  },
  {
   "cell_type": "code",
   "execution_count": null,
   "metadata": {},
   "outputs": [],
   "source": []
  }
 ],
 "metadata": {
  "kernelspec": {
   "display_name": "Python 3",
   "language": "python",
   "name": "python3"
  },
  "language_info": {
   "codemirror_mode": {
    "name": "ipython",
    "version": 3
   },
   "file_extension": ".py",
   "mimetype": "text/x-python",
   "name": "python",
   "nbconvert_exporter": "python",
   "pygments_lexer": "ipython3",
   "version": "3.7.1"
  }
 },
 "nbformat": 4,
 "nbformat_minor": 2
}
